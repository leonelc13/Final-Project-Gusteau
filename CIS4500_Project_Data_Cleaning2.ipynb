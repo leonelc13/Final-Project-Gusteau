{
  "nbformat": 4,
  "nbformat_minor": 0,
  "metadata": {
    "colab": {
      "provenance": []
    },
    "kernelspec": {
      "name": "python3",
      "display_name": "Python 3"
    },
    "language_info": {
      "name": "python"
    }
  },
  "cells": [
    {
      "cell_type": "code",
      "execution_count": null,
      "metadata": {
        "id": "49yZmK6RZek-"
      },
      "outputs": [],
      "source": [
        "import pandas as pd"
      ]
    },
    {
      "cell_type": "code",
      "source": [
        "recipes_df = pd.read_csv('Ingredients.csv', quoting=1)"
      ],
      "metadata": {
        "id": "bO3eA85daSio"
      },
      "execution_count": null,
      "outputs": []
    },
    {
      "cell_type": "code",
      "source": [
        "ingredients_df = pd.read_csv('recipes.csv', quoting=1)"
      ],
      "metadata": {
        "id": "e599z4b-auSt"
      },
      "execution_count": null,
      "outputs": []
    },
    {
      "cell_type": "code",
      "source": [
        "print(len(recipes_df.index))\n",
        "print(len(ingredients_df.index))\n",
        "\n",
        "recipes_df"
      ],
      "metadata": {
        "colab": {
          "base_uri": "https://localhost:8080/",
          "height": 453
        },
        "id": "kdS_UxtaazeR",
        "outputId": "de857925-b7e2-4b5c-c7e5-3f960b921abd"
      },
      "execution_count": null,
      "outputs": [
        {
          "output_type": "stream",
          "name": "stdout",
          "text": [
            "8015\n",
            "178265\n"
          ]
        },
        {
          "output_type": "execute_result",
          "data": {
            "text/plain": [
              "      Ingredient_id         Ingredient_name\n",
              "0                 8        10 bean soup mix\n",
              "1                 9  10-minute success rice\n",
              "2                10         100 proof vodka\n",
              "3                11             15 bean mix\n",
              "4                12        15 bean soup mix\n",
              "...             ...                     ...\n",
              "8010           8018              ziploc bag\n",
              "8011           8019             ziti pastum\n",
              "8012           8020            ziti rigatus\n",
              "8013           8021                zucchini\n",
              "8014           8022          zwieback toast\n",
              "\n",
              "[8015 rows x 2 columns]"
            ],
            "text/html": [
              "\n",
              "  <div id=\"df-d1e44b59-e0ba-4a45-985f-e45a129820a1\">\n",
              "    <div class=\"colab-df-container\">\n",
              "      <div>\n",
              "<style scoped>\n",
              "    .dataframe tbody tr th:only-of-type {\n",
              "        vertical-align: middle;\n",
              "    }\n",
              "\n",
              "    .dataframe tbody tr th {\n",
              "        vertical-align: top;\n",
              "    }\n",
              "\n",
              "    .dataframe thead th {\n",
              "        text-align: right;\n",
              "    }\n",
              "</style>\n",
              "<table border=\"1\" class=\"dataframe\">\n",
              "  <thead>\n",
              "    <tr style=\"text-align: right;\">\n",
              "      <th></th>\n",
              "      <th>Ingredient_id</th>\n",
              "      <th>Ingredient_name</th>\n",
              "    </tr>\n",
              "  </thead>\n",
              "  <tbody>\n",
              "    <tr>\n",
              "      <th>0</th>\n",
              "      <td>8</td>\n",
              "      <td>10 bean soup mix</td>\n",
              "    </tr>\n",
              "    <tr>\n",
              "      <th>1</th>\n",
              "      <td>9</td>\n",
              "      <td>10-minute success rice</td>\n",
              "    </tr>\n",
              "    <tr>\n",
              "      <th>2</th>\n",
              "      <td>10</td>\n",
              "      <td>100 proof vodka</td>\n",
              "    </tr>\n",
              "    <tr>\n",
              "      <th>3</th>\n",
              "      <td>11</td>\n",
              "      <td>15 bean mix</td>\n",
              "    </tr>\n",
              "    <tr>\n",
              "      <th>4</th>\n",
              "      <td>12</td>\n",
              "      <td>15 bean soup mix</td>\n",
              "    </tr>\n",
              "    <tr>\n",
              "      <th>...</th>\n",
              "      <td>...</td>\n",
              "      <td>...</td>\n",
              "    </tr>\n",
              "    <tr>\n",
              "      <th>8010</th>\n",
              "      <td>8018</td>\n",
              "      <td>ziploc bag</td>\n",
              "    </tr>\n",
              "    <tr>\n",
              "      <th>8011</th>\n",
              "      <td>8019</td>\n",
              "      <td>ziti pastum</td>\n",
              "    </tr>\n",
              "    <tr>\n",
              "      <th>8012</th>\n",
              "      <td>8020</td>\n",
              "      <td>ziti rigatus</td>\n",
              "    </tr>\n",
              "    <tr>\n",
              "      <th>8013</th>\n",
              "      <td>8021</td>\n",
              "      <td>zucchini</td>\n",
              "    </tr>\n",
              "    <tr>\n",
              "      <th>8014</th>\n",
              "      <td>8022</td>\n",
              "      <td>zwieback toast</td>\n",
              "    </tr>\n",
              "  </tbody>\n",
              "</table>\n",
              "<p>8015 rows × 2 columns</p>\n",
              "</div>\n",
              "      <button class=\"colab-df-convert\" onclick=\"convertToInteractive('df-d1e44b59-e0ba-4a45-985f-e45a129820a1')\"\n",
              "              title=\"Convert this dataframe to an interactive table.\"\n",
              "              style=\"display:none;\">\n",
              "        \n",
              "  <svg xmlns=\"http://www.w3.org/2000/svg\" height=\"24px\"viewBox=\"0 0 24 24\"\n",
              "       width=\"24px\">\n",
              "    <path d=\"M0 0h24v24H0V0z\" fill=\"none\"/>\n",
              "    <path d=\"M18.56 5.44l.94 2.06.94-2.06 2.06-.94-2.06-.94-.94-2.06-.94 2.06-2.06.94zm-11 1L8.5 8.5l.94-2.06 2.06-.94-2.06-.94L8.5 2.5l-.94 2.06-2.06.94zm10 10l.94 2.06.94-2.06 2.06-.94-2.06-.94-.94-2.06-.94 2.06-2.06.94z\"/><path d=\"M17.41 7.96l-1.37-1.37c-.4-.4-.92-.59-1.43-.59-.52 0-1.04.2-1.43.59L10.3 9.45l-7.72 7.72c-.78.78-.78 2.05 0 2.83L4 21.41c.39.39.9.59 1.41.59.51 0 1.02-.2 1.41-.59l7.78-7.78 2.81-2.81c.8-.78.8-2.07 0-2.86zM5.41 20L4 18.59l7.72-7.72 1.47 1.35L5.41 20z\"/>\n",
              "  </svg>\n",
              "      </button>\n",
              "      \n",
              "  <style>\n",
              "    .colab-df-container {\n",
              "      display:flex;\n",
              "      flex-wrap:wrap;\n",
              "      gap: 12px;\n",
              "    }\n",
              "\n",
              "    .colab-df-convert {\n",
              "      background-color: #E8F0FE;\n",
              "      border: none;\n",
              "      border-radius: 50%;\n",
              "      cursor: pointer;\n",
              "      display: none;\n",
              "      fill: #1967D2;\n",
              "      height: 32px;\n",
              "      padding: 0 0 0 0;\n",
              "      width: 32px;\n",
              "    }\n",
              "\n",
              "    .colab-df-convert:hover {\n",
              "      background-color: #E2EBFA;\n",
              "      box-shadow: 0px 1px 2px rgba(60, 64, 67, 0.3), 0px 1px 3px 1px rgba(60, 64, 67, 0.15);\n",
              "      fill: #174EA6;\n",
              "    }\n",
              "\n",
              "    [theme=dark] .colab-df-convert {\n",
              "      background-color: #3B4455;\n",
              "      fill: #D2E3FC;\n",
              "    }\n",
              "\n",
              "    [theme=dark] .colab-df-convert:hover {\n",
              "      background-color: #434B5C;\n",
              "      box-shadow: 0px 1px 3px 1px rgba(0, 0, 0, 0.15);\n",
              "      filter: drop-shadow(0px 1px 2px rgba(0, 0, 0, 0.3));\n",
              "      fill: #FFFFFF;\n",
              "    }\n",
              "  </style>\n",
              "\n",
              "      <script>\n",
              "        const buttonEl =\n",
              "          document.querySelector('#df-d1e44b59-e0ba-4a45-985f-e45a129820a1 button.colab-df-convert');\n",
              "        buttonEl.style.display =\n",
              "          google.colab.kernel.accessAllowed ? 'block' : 'none';\n",
              "\n",
              "        async function convertToInteractive(key) {\n",
              "          const element = document.querySelector('#df-d1e44b59-e0ba-4a45-985f-e45a129820a1');\n",
              "          const dataTable =\n",
              "            await google.colab.kernel.invokeFunction('convertToInteractive',\n",
              "                                                     [key], {});\n",
              "          if (!dataTable) return;\n",
              "\n",
              "          const docLinkHtml = 'Like what you see? Visit the ' +\n",
              "            '<a target=\"_blank\" href=https://colab.research.google.com/notebooks/data_table.ipynb>data table notebook</a>'\n",
              "            + ' to learn more about interactive tables.';\n",
              "          element.innerHTML = '';\n",
              "          dataTable['output_type'] = 'display_data';\n",
              "          await google.colab.output.renderOutput(dataTable, element);\n",
              "          const docLink = document.createElement('div');\n",
              "          docLink.innerHTML = docLinkHtml;\n",
              "          element.appendChild(docLink);\n",
              "        }\n",
              "      </script>\n",
              "    </div>\n",
              "  </div>\n",
              "  "
            ]
          },
          "metadata": {},
          "execution_count": 18
        }
      ]
    },
    {
      "cell_type": "code",
      "source": [
        "ingredients_df.drop(columns=['Unnamed: 0'], inplace=True)"
      ],
      "metadata": {
        "id": "8yjVJsKXdqJW"
      },
      "execution_count": null,
      "outputs": []
    },
    {
      "cell_type": "code",
      "source": [
        "print(recipes_df.columns)\n",
        "print(ingredients_df.columns)"
      ],
      "metadata": {
        "colab": {
          "base_uri": "https://localhost:8080/"
        },
        "id": "zRf3KCYleGkE",
        "outputId": "b5ba7901-4b01-4d60-8451-cbc91b62bb60"
      },
      "execution_count": null,
      "outputs": [
        {
          "output_type": "stream",
          "name": "stdout",
          "text": [
            "Index(['Ingredient_id', 'Ingredient_name'], dtype='object')\n",
            "Index(['id', 'name', 'prep_time', 'contributor_id', 'num_ingredients', 'steps',\n",
            "       'calories', 'ingredient_ids'],\n",
            "      dtype='object')\n"
          ]
        }
      ]
    },
    {
      "cell_type": "code",
      "source": [
        "new_recipes_df = recipes_df.drop_duplicates()\n",
        "new_ingredients_df = ingredients_df.drop_duplicates()"
      ],
      "metadata": {
        "id": "cHBzQH53cjq4"
      },
      "execution_count": null,
      "outputs": []
    },
    {
      "cell_type": "code",
      "source": [
        "print(len(new_recipes_df.index))\n",
        "print(len(new_ingredients_df.index))"
      ],
      "metadata": {
        "colab": {
          "base_uri": "https://localhost:8080/"
        },
        "id": "8qQu3OnEcufM",
        "outputId": "c1ea8123-0984-4f0e-aedb-d51eee6d8d15"
      },
      "execution_count": null,
      "outputs": [
        {
          "output_type": "stream",
          "name": "stdout",
          "text": [
            "9035\n",
            "178265\n"
          ]
        }
      ]
    },
    {
      "cell_type": "code",
      "source": [
        "new_ingredients_df['ingredient_list'] = new_ingredients_df['ingredient_ids'].apply(lambda x: [int(y) for y in str.split(x[1:-1], ',') if y.strip().isdigit()])"
      ],
      "metadata": {
        "id": "KnXUvFg9heam"
      },
      "execution_count": null,
      "outputs": []
    },
    {
      "cell_type": "code",
      "source": [
        "mini_ingr_df = new_ingredients_df[['id', 'ingredient_list']]\n",
        "mini_ingr_df"
      ],
      "metadata": {
        "colab": {
          "base_uri": "https://localhost:8080/",
          "height": 424
        },
        "id": "VNNAwlipjauw",
        "outputId": "c9c2f6b5-b630-4585-f325-24334ba849ff"
      },
      "execution_count": null,
      "outputs": [
        {
          "output_type": "execute_result",
          "data": {
            "text/plain": [
              "            id                                    ingredient_list\n",
              "0       137739          [7933, 4694, 4795, 3723, 840, 5006, 6270]\n",
              "1        31490               [5481, 6324, 2499, 4717, 6276, 1170]\n",
              "2        59389  [1170, 4918, 6426, 5185, 7099, 5006, 6009, 627...\n",
              "3         5289                            [4717, 7474, 2946, 150]\n",
              "4        25274  [2587, 3437, 5002, 3184, 5324, 5068, 5058, 131...\n",
              "...        ...                                                ...\n",
              "178260  185979   [3203, 7978, 2725, 1336, 2794, 7803, 7655, 5369]\n",
              "178261  367912                             [4308, 7213, 13, 5007]\n",
              "178262  357451               [4623, 3758, 7946, 7839, 7049, 5975]\n",
              "178263  188810  [7783, 7557, 5010, 3399, 1130, 7233, 7946, 381...\n",
              "178264  308080     [3627, 4623, 2148, 905, 7049, 6270, 590, 2822]\n",
              "\n",
              "[178265 rows x 2 columns]"
            ],
            "text/html": [
              "\n",
              "  <div id=\"df-65544ac2-ef54-4000-8e28-52aef2fd037c\">\n",
              "    <div class=\"colab-df-container\">\n",
              "      <div>\n",
              "<style scoped>\n",
              "    .dataframe tbody tr th:only-of-type {\n",
              "        vertical-align: middle;\n",
              "    }\n",
              "\n",
              "    .dataframe tbody tr th {\n",
              "        vertical-align: top;\n",
              "    }\n",
              "\n",
              "    .dataframe thead th {\n",
              "        text-align: right;\n",
              "    }\n",
              "</style>\n",
              "<table border=\"1\" class=\"dataframe\">\n",
              "  <thead>\n",
              "    <tr style=\"text-align: right;\">\n",
              "      <th></th>\n",
              "      <th>id</th>\n",
              "      <th>ingredient_list</th>\n",
              "    </tr>\n",
              "  </thead>\n",
              "  <tbody>\n",
              "    <tr>\n",
              "      <th>0</th>\n",
              "      <td>137739</td>\n",
              "      <td>[7933, 4694, 4795, 3723, 840, 5006, 6270]</td>\n",
              "    </tr>\n",
              "    <tr>\n",
              "      <th>1</th>\n",
              "      <td>31490</td>\n",
              "      <td>[5481, 6324, 2499, 4717, 6276, 1170]</td>\n",
              "    </tr>\n",
              "    <tr>\n",
              "      <th>2</th>\n",
              "      <td>59389</td>\n",
              "      <td>[1170, 4918, 6426, 5185, 7099, 5006, 6009, 627...</td>\n",
              "    </tr>\n",
              "    <tr>\n",
              "      <th>3</th>\n",
              "      <td>5289</td>\n",
              "      <td>[4717, 7474, 2946, 150]</td>\n",
              "    </tr>\n",
              "    <tr>\n",
              "      <th>4</th>\n",
              "      <td>25274</td>\n",
              "      <td>[2587, 3437, 5002, 3184, 5324, 5068, 5058, 131...</td>\n",
              "    </tr>\n",
              "    <tr>\n",
              "      <th>...</th>\n",
              "      <td>...</td>\n",
              "      <td>...</td>\n",
              "    </tr>\n",
              "    <tr>\n",
              "      <th>178260</th>\n",
              "      <td>185979</td>\n",
              "      <td>[3203, 7978, 2725, 1336, 2794, 7803, 7655, 5369]</td>\n",
              "    </tr>\n",
              "    <tr>\n",
              "      <th>178261</th>\n",
              "      <td>367912</td>\n",
              "      <td>[4308, 7213, 13, 5007]</td>\n",
              "    </tr>\n",
              "    <tr>\n",
              "      <th>178262</th>\n",
              "      <td>357451</td>\n",
              "      <td>[4623, 3758, 7946, 7839, 7049, 5975]</td>\n",
              "    </tr>\n",
              "    <tr>\n",
              "      <th>178263</th>\n",
              "      <td>188810</td>\n",
              "      <td>[7783, 7557, 5010, 3399, 1130, 7233, 7946, 381...</td>\n",
              "    </tr>\n",
              "    <tr>\n",
              "      <th>178264</th>\n",
              "      <td>308080</td>\n",
              "      <td>[3627, 4623, 2148, 905, 7049, 6270, 590, 2822]</td>\n",
              "    </tr>\n",
              "  </tbody>\n",
              "</table>\n",
              "<p>178265 rows × 2 columns</p>\n",
              "</div>\n",
              "      <button class=\"colab-df-convert\" onclick=\"convertToInteractive('df-65544ac2-ef54-4000-8e28-52aef2fd037c')\"\n",
              "              title=\"Convert this dataframe to an interactive table.\"\n",
              "              style=\"display:none;\">\n",
              "        \n",
              "  <svg xmlns=\"http://www.w3.org/2000/svg\" height=\"24px\"viewBox=\"0 0 24 24\"\n",
              "       width=\"24px\">\n",
              "    <path d=\"M0 0h24v24H0V0z\" fill=\"none\"/>\n",
              "    <path d=\"M18.56 5.44l.94 2.06.94-2.06 2.06-.94-2.06-.94-.94-2.06-.94 2.06-2.06.94zm-11 1L8.5 8.5l.94-2.06 2.06-.94-2.06-.94L8.5 2.5l-.94 2.06-2.06.94zm10 10l.94 2.06.94-2.06 2.06-.94-2.06-.94-.94-2.06-.94 2.06-2.06.94z\"/><path d=\"M17.41 7.96l-1.37-1.37c-.4-.4-.92-.59-1.43-.59-.52 0-1.04.2-1.43.59L10.3 9.45l-7.72 7.72c-.78.78-.78 2.05 0 2.83L4 21.41c.39.39.9.59 1.41.59.51 0 1.02-.2 1.41-.59l7.78-7.78 2.81-2.81c.8-.78.8-2.07 0-2.86zM5.41 20L4 18.59l7.72-7.72 1.47 1.35L5.41 20z\"/>\n",
              "  </svg>\n",
              "      </button>\n",
              "      \n",
              "  <style>\n",
              "    .colab-df-container {\n",
              "      display:flex;\n",
              "      flex-wrap:wrap;\n",
              "      gap: 12px;\n",
              "    }\n",
              "\n",
              "    .colab-df-convert {\n",
              "      background-color: #E8F0FE;\n",
              "      border: none;\n",
              "      border-radius: 50%;\n",
              "      cursor: pointer;\n",
              "      display: none;\n",
              "      fill: #1967D2;\n",
              "      height: 32px;\n",
              "      padding: 0 0 0 0;\n",
              "      width: 32px;\n",
              "    }\n",
              "\n",
              "    .colab-df-convert:hover {\n",
              "      background-color: #E2EBFA;\n",
              "      box-shadow: 0px 1px 2px rgba(60, 64, 67, 0.3), 0px 1px 3px 1px rgba(60, 64, 67, 0.15);\n",
              "      fill: #174EA6;\n",
              "    }\n",
              "\n",
              "    [theme=dark] .colab-df-convert {\n",
              "      background-color: #3B4455;\n",
              "      fill: #D2E3FC;\n",
              "    }\n",
              "\n",
              "    [theme=dark] .colab-df-convert:hover {\n",
              "      background-color: #434B5C;\n",
              "      box-shadow: 0px 1px 3px 1px rgba(0, 0, 0, 0.15);\n",
              "      filter: drop-shadow(0px 1px 2px rgba(0, 0, 0, 0.3));\n",
              "      fill: #FFFFFF;\n",
              "    }\n",
              "  </style>\n",
              "\n",
              "      <script>\n",
              "        const buttonEl =\n",
              "          document.querySelector('#df-65544ac2-ef54-4000-8e28-52aef2fd037c button.colab-df-convert');\n",
              "        buttonEl.style.display =\n",
              "          google.colab.kernel.accessAllowed ? 'block' : 'none';\n",
              "\n",
              "        async function convertToInteractive(key) {\n",
              "          const element = document.querySelector('#df-65544ac2-ef54-4000-8e28-52aef2fd037c');\n",
              "          const dataTable =\n",
              "            await google.colab.kernel.invokeFunction('convertToInteractive',\n",
              "                                                     [key], {});\n",
              "          if (!dataTable) return;\n",
              "\n",
              "          const docLinkHtml = 'Like what you see? Visit the ' +\n",
              "            '<a target=\"_blank\" href=https://colab.research.google.com/notebooks/data_table.ipynb>data table notebook</a>'\n",
              "            + ' to learn more about interactive tables.';\n",
              "          element.innerHTML = '';\n",
              "          dataTable['output_type'] = 'display_data';\n",
              "          await google.colab.output.renderOutput(dataTable, element);\n",
              "          const docLink = document.createElement('div');\n",
              "          docLink.innerHTML = docLinkHtml;\n",
              "          element.appendChild(docLink);\n",
              "        }\n",
              "      </script>\n",
              "    </div>\n",
              "  </div>\n",
              "  "
            ]
          },
          "metadata": {},
          "execution_count": 60
        }
      ]
    },
    {
      "cell_type": "code",
      "source": [
        "recipe_ingr_df = mini_ingr_df.explode('ingredient_list')"
      ],
      "metadata": {
        "id": "mXtFsYH5mdUT"
      },
      "execution_count": null,
      "outputs": []
    },
    {
      "cell_type": "code",
      "source": [
        "recipe_ingr_df.rename(columns={'id': 'recipe_id', 'ingredient_list': 'ingredient_id'}, inplace=True)"
      ],
      "metadata": {
        "id": "NHH3ZtpEmtz0"
      },
      "execution_count": null,
      "outputs": []
    },
    {
      "cell_type": "code",
      "source": [
        "print(len(recipe_ingr_df.index))"
      ],
      "metadata": {
        "colab": {
          "base_uri": "https://localhost:8080/"
        },
        "id": "j012tef8m1pQ",
        "outputId": "ca76bafe-b303-4d9b-95ab-8db98a7abb11"
      },
      "execution_count": null,
      "outputs": [
        {
          "output_type": "stream",
          "name": "stdout",
          "text": [
            "1605472\n"
          ]
        }
      ]
    },
    {
      "cell_type": "code",
      "source": [
        "new_recipe_ingr_df = recipe_ingr_df.drop_duplicates()"
      ],
      "metadata": {
        "id": "cWGPK9Rnm7Tu"
      },
      "execution_count": null,
      "outputs": []
    },
    {
      "cell_type": "code",
      "source": [
        "new_recipe_ingr_df.to_csv('cleaned_recipe_to_ingredients.csv')"
      ],
      "metadata": {
        "id": "u1TFRGcrm_uS"
      },
      "execution_count": null,
      "outputs": []
    },
    {
      "cell_type": "code",
      "source": [
        "import pandas as pd\n",
        "reviews_df = pd.read_csv('cleaned_reviews2.csv', quoting=1, on_bad_lines='warn')\n",
        "reviews_df"
      ],
      "metadata": {
        "colab": {
          "base_uri": "https://localhost:8080/",
          "height": 468
        },
        "id": "sLsxvL3m3o4p",
        "outputId": "dfdb03ee-9bf8-48b3-94dd-7a04b2807d26"
      },
      "execution_count": null,
      "outputs": [
        {
          "output_type": "execute_result",
          "data": {
            "text/plain": [
              "        Unnamed: 0  user_id  recipe_id  rating  \\\n",
              "0                0    38094      40893       4   \n",
              "1                1  1293707      40893       5   \n",
              "2                2     8937      44394       4   \n",
              "3                3   126440      85009       5   \n",
              "4                4    57222      85009       5   \n",
              "...            ...      ...        ...     ...   \n",
              "122245      122266   705251     482449       5   \n",
              "122246      122267   461834     482449       5   \n",
              "122247      122268   280271     482449       5   \n",
              "122248      122269   714863      12639       4   \n",
              "122249      122270    39636      87885       5   \n",
              "\n",
              "                                             descriptions  \n",
              "0       Great with a salad. Cooked on top of stove for...  \n",
              "1       So simple, so delicious! Great for chilly fall...  \n",
              "2       This worked very well and is EASY.  I used not...  \n",
              "3       I made the Mexican topping and took it to bunk...  \n",
              "4       Made the cheddar bacon topping, adding a sprin...  \n",
              "...                                                   ...  \n",
              "122245  It is breakfast for dinner at our house and th...  \n",
              "122246  Awesome pancakes!!!  I made these, as I had fr...  \n",
              "122247  Loved that this didn't make a bunch of pancake...  \n",
              "122248  These were extremely easy to mix up and the ba...  \n",
              "122249  This was an easy recipe to make. Far better th...  \n",
              "\n",
              "[122250 rows x 5 columns]"
            ],
            "text/html": [
              "\n",
              "  <div id=\"df-84abdb1e-e893-49cc-bcee-eb8a10ad0b7f\">\n",
              "    <div class=\"colab-df-container\">\n",
              "      <div>\n",
              "<style scoped>\n",
              "    .dataframe tbody tr th:only-of-type {\n",
              "        vertical-align: middle;\n",
              "    }\n",
              "\n",
              "    .dataframe tbody tr th {\n",
              "        vertical-align: top;\n",
              "    }\n",
              "\n",
              "    .dataframe thead th {\n",
              "        text-align: right;\n",
              "    }\n",
              "</style>\n",
              "<table border=\"1\" class=\"dataframe\">\n",
              "  <thead>\n",
              "    <tr style=\"text-align: right;\">\n",
              "      <th></th>\n",
              "      <th>Unnamed: 0</th>\n",
              "      <th>user_id</th>\n",
              "      <th>recipe_id</th>\n",
              "      <th>rating</th>\n",
              "      <th>descriptions</th>\n",
              "    </tr>\n",
              "  </thead>\n",
              "  <tbody>\n",
              "    <tr>\n",
              "      <th>0</th>\n",
              "      <td>0</td>\n",
              "      <td>38094</td>\n",
              "      <td>40893</td>\n",
              "      <td>4</td>\n",
              "      <td>Great with a salad. Cooked on top of stove for...</td>\n",
              "    </tr>\n",
              "    <tr>\n",
              "      <th>1</th>\n",
              "      <td>1</td>\n",
              "      <td>1293707</td>\n",
              "      <td>40893</td>\n",
              "      <td>5</td>\n",
              "      <td>So simple, so delicious! Great for chilly fall...</td>\n",
              "    </tr>\n",
              "    <tr>\n",
              "      <th>2</th>\n",
              "      <td>2</td>\n",
              "      <td>8937</td>\n",
              "      <td>44394</td>\n",
              "      <td>4</td>\n",
              "      <td>This worked very well and is EASY.  I used not...</td>\n",
              "    </tr>\n",
              "    <tr>\n",
              "      <th>3</th>\n",
              "      <td>3</td>\n",
              "      <td>126440</td>\n",
              "      <td>85009</td>\n",
              "      <td>5</td>\n",
              "      <td>I made the Mexican topping and took it to bunk...</td>\n",
              "    </tr>\n",
              "    <tr>\n",
              "      <th>4</th>\n",
              "      <td>4</td>\n",
              "      <td>57222</td>\n",
              "      <td>85009</td>\n",
              "      <td>5</td>\n",
              "      <td>Made the cheddar bacon topping, adding a sprin...</td>\n",
              "    </tr>\n",
              "    <tr>\n",
              "      <th>...</th>\n",
              "      <td>...</td>\n",
              "      <td>...</td>\n",
              "      <td>...</td>\n",
              "      <td>...</td>\n",
              "      <td>...</td>\n",
              "    </tr>\n",
              "    <tr>\n",
              "      <th>122245</th>\n",
              "      <td>122266</td>\n",
              "      <td>705251</td>\n",
              "      <td>482449</td>\n",
              "      <td>5</td>\n",
              "      <td>It is breakfast for dinner at our house and th...</td>\n",
              "    </tr>\n",
              "    <tr>\n",
              "      <th>122246</th>\n",
              "      <td>122267</td>\n",
              "      <td>461834</td>\n",
              "      <td>482449</td>\n",
              "      <td>5</td>\n",
              "      <td>Awesome pancakes!!!  I made these, as I had fr...</td>\n",
              "    </tr>\n",
              "    <tr>\n",
              "      <th>122247</th>\n",
              "      <td>122268</td>\n",
              "      <td>280271</td>\n",
              "      <td>482449</td>\n",
              "      <td>5</td>\n",
              "      <td>Loved that this didn't make a bunch of pancake...</td>\n",
              "    </tr>\n",
              "    <tr>\n",
              "      <th>122248</th>\n",
              "      <td>122269</td>\n",
              "      <td>714863</td>\n",
              "      <td>12639</td>\n",
              "      <td>4</td>\n",
              "      <td>These were extremely easy to mix up and the ba...</td>\n",
              "    </tr>\n",
              "    <tr>\n",
              "      <th>122249</th>\n",
              "      <td>122270</td>\n",
              "      <td>39636</td>\n",
              "      <td>87885</td>\n",
              "      <td>5</td>\n",
              "      <td>This was an easy recipe to make. Far better th...</td>\n",
              "    </tr>\n",
              "  </tbody>\n",
              "</table>\n",
              "<p>122250 rows × 5 columns</p>\n",
              "</div>\n",
              "      <button class=\"colab-df-convert\" onclick=\"convertToInteractive('df-84abdb1e-e893-49cc-bcee-eb8a10ad0b7f')\"\n",
              "              title=\"Convert this dataframe to an interactive table.\"\n",
              "              style=\"display:none;\">\n",
              "        \n",
              "  <svg xmlns=\"http://www.w3.org/2000/svg\" height=\"24px\"viewBox=\"0 0 24 24\"\n",
              "       width=\"24px\">\n",
              "    <path d=\"M0 0h24v24H0V0z\" fill=\"none\"/>\n",
              "    <path d=\"M18.56 5.44l.94 2.06.94-2.06 2.06-.94-2.06-.94-.94-2.06-.94 2.06-2.06.94zm-11 1L8.5 8.5l.94-2.06 2.06-.94-2.06-.94L8.5 2.5l-.94 2.06-2.06.94zm10 10l.94 2.06.94-2.06 2.06-.94-2.06-.94-.94-2.06-.94 2.06-2.06.94z\"/><path d=\"M17.41 7.96l-1.37-1.37c-.4-.4-.92-.59-1.43-.59-.52 0-1.04.2-1.43.59L10.3 9.45l-7.72 7.72c-.78.78-.78 2.05 0 2.83L4 21.41c.39.39.9.59 1.41.59.51 0 1.02-.2 1.41-.59l7.78-7.78 2.81-2.81c.8-.78.8-2.07 0-2.86zM5.41 20L4 18.59l7.72-7.72 1.47 1.35L5.41 20z\"/>\n",
              "  </svg>\n",
              "      </button>\n",
              "      \n",
              "  <style>\n",
              "    .colab-df-container {\n",
              "      display:flex;\n",
              "      flex-wrap:wrap;\n",
              "      gap: 12px;\n",
              "    }\n",
              "\n",
              "    .colab-df-convert {\n",
              "      background-color: #E8F0FE;\n",
              "      border: none;\n",
              "      border-radius: 50%;\n",
              "      cursor: pointer;\n",
              "      display: none;\n",
              "      fill: #1967D2;\n",
              "      height: 32px;\n",
              "      padding: 0 0 0 0;\n",
              "      width: 32px;\n",
              "    }\n",
              "\n",
              "    .colab-df-convert:hover {\n",
              "      background-color: #E2EBFA;\n",
              "      box-shadow: 0px 1px 2px rgba(60, 64, 67, 0.3), 0px 1px 3px 1px rgba(60, 64, 67, 0.15);\n",
              "      fill: #174EA6;\n",
              "    }\n",
              "\n",
              "    [theme=dark] .colab-df-convert {\n",
              "      background-color: #3B4455;\n",
              "      fill: #D2E3FC;\n",
              "    }\n",
              "\n",
              "    [theme=dark] .colab-df-convert:hover {\n",
              "      background-color: #434B5C;\n",
              "      box-shadow: 0px 1px 3px 1px rgba(0, 0, 0, 0.15);\n",
              "      filter: drop-shadow(0px 1px 2px rgba(0, 0, 0, 0.3));\n",
              "      fill: #FFFFFF;\n",
              "    }\n",
              "  </style>\n",
              "\n",
              "      <script>\n",
              "        const buttonEl =\n",
              "          document.querySelector('#df-84abdb1e-e893-49cc-bcee-eb8a10ad0b7f button.colab-df-convert');\n",
              "        buttonEl.style.display =\n",
              "          google.colab.kernel.accessAllowed ? 'block' : 'none';\n",
              "\n",
              "        async function convertToInteractive(key) {\n",
              "          const element = document.querySelector('#df-84abdb1e-e893-49cc-bcee-eb8a10ad0b7f');\n",
              "          const dataTable =\n",
              "            await google.colab.kernel.invokeFunction('convertToInteractive',\n",
              "                                                     [key], {});\n",
              "          if (!dataTable) return;\n",
              "\n",
              "          const docLinkHtml = 'Like what you see? Visit the ' +\n",
              "            '<a target=\"_blank\" href=https://colab.research.google.com/notebooks/data_table.ipynb>data table notebook</a>'\n",
              "            + ' to learn more about interactive tables.';\n",
              "          element.innerHTML = '';\n",
              "          dataTable['output_type'] = 'display_data';\n",
              "          await google.colab.output.renderOutput(dataTable, element);\n",
              "          const docLink = document.createElement('div');\n",
              "          docLink.innerHTML = docLinkHtml;\n",
              "          element.appendChild(docLink);\n",
              "        }\n",
              "      </script>\n",
              "    </div>\n",
              "  </div>\n",
              "  "
            ]
          },
          "metadata": {},
          "execution_count": 20
        }
      ]
    },
    {
      "cell_type": "code",
      "source": [
        "print(len(max(list(reviews_df['descriptions']), key=len)))"
      ],
      "metadata": {
        "colab": {
          "base_uri": "https://localhost:8080/"
        },
        "id": "2QkgfoID6yd5",
        "outputId": "f6da8811-1478-4d01-f6e3-7a7155ee6125"
      },
      "execution_count": null,
      "outputs": [
        {
          "output_type": "stream",
          "name": "stdout",
          "text": [
            "5799\n"
          ]
        }
      ]
    },
    {
      "cell_type": "code",
      "source": [
        "recipes_df = pd.read_csv('Recipes.csv', quoting=1, on_bad_lines='warn')"
      ],
      "metadata": {
        "id": "FGfDpF-z6F0H"
      },
      "execution_count": null,
      "outputs": []
    },
    {
      "cell_type": "code",
      "source": [
        "merged_df = reviews_df.merge(recipes_df, left_on='recipe_id', right_on='id')"
      ],
      "metadata": {
        "id": "wKEcYR5Y8gOB"
      },
      "execution_count": null,
      "outputs": []
    },
    {
      "cell_type": "code",
      "source": [
        "merged_df2 = merged_df[['user_id', 'recipe_id', 'rating', 'descriptions']]\n",
        "merged_df2"
      ],
      "metadata": {
        "colab": {
          "base_uri": "https://localhost:8080/",
          "height": 424
        },
        "id": "Sq2wGAqF8wAp",
        "outputId": "68317e32-38b3-47fb-eb0e-aaae4aad9ceb"
      },
      "execution_count": null,
      "outputs": [
        {
          "output_type": "execute_result",
          "data": {
            "text/plain": [
              "       user_id  recipe_id  rating  \\\n",
              "0       126440      85009       5   \n",
              "1        57222      85009       5   \n",
              "2       135017     254596       5   \n",
              "3       224088     254596       4   \n",
              "4       582223     254596       5   \n",
              "...        ...        ...     ...   \n",
              "17755   209255      63362       5   \n",
              "17756   163112     226618       3   \n",
              "17757   714748     392347       5   \n",
              "17758   181231     107852       5   \n",
              "17759   582946     107852       4   \n",
              "\n",
              "                                            descriptions  \n",
              "0      I made the Mexican topping and took it to bunk...  \n",
              "1      Made the cheddar bacon topping, adding a sprin...  \n",
              "2      I am extremely picky about my crockpot recipes...  \n",
              "3      Pork + fruit + crockpot = awesome.\\n\\nA very g...  \n",
              "4      really good my 18 month old loved it and she's...  \n",
              "...                                                  ...  \n",
              "17755  I LOVED these!  And so did everyone else that ...  \n",
              "17756  I'm not sure what went wrong.  The cake was ve...  \n",
              "17757  Simple, straightforward, and delicious. I've m...  \n",
              "17758  I omited cloves and added 3Tbs.cinnamon red ho...  \n",
              "17759  Very tasty and simple to make. I had no cloves...  \n",
              "\n",
              "[17760 rows x 4 columns]"
            ],
            "text/html": [
              "\n",
              "  <div id=\"df-844efcff-2764-436f-a421-14ce1f0e4974\">\n",
              "    <div class=\"colab-df-container\">\n",
              "      <div>\n",
              "<style scoped>\n",
              "    .dataframe tbody tr th:only-of-type {\n",
              "        vertical-align: middle;\n",
              "    }\n",
              "\n",
              "    .dataframe tbody tr th {\n",
              "        vertical-align: top;\n",
              "    }\n",
              "\n",
              "    .dataframe thead th {\n",
              "        text-align: right;\n",
              "    }\n",
              "</style>\n",
              "<table border=\"1\" class=\"dataframe\">\n",
              "  <thead>\n",
              "    <tr style=\"text-align: right;\">\n",
              "      <th></th>\n",
              "      <th>user_id</th>\n",
              "      <th>recipe_id</th>\n",
              "      <th>rating</th>\n",
              "      <th>descriptions</th>\n",
              "    </tr>\n",
              "  </thead>\n",
              "  <tbody>\n",
              "    <tr>\n",
              "      <th>0</th>\n",
              "      <td>126440</td>\n",
              "      <td>85009</td>\n",
              "      <td>5</td>\n",
              "      <td>I made the Mexican topping and took it to bunk...</td>\n",
              "    </tr>\n",
              "    <tr>\n",
              "      <th>1</th>\n",
              "      <td>57222</td>\n",
              "      <td>85009</td>\n",
              "      <td>5</td>\n",
              "      <td>Made the cheddar bacon topping, adding a sprin...</td>\n",
              "    </tr>\n",
              "    <tr>\n",
              "      <th>2</th>\n",
              "      <td>135017</td>\n",
              "      <td>254596</td>\n",
              "      <td>5</td>\n",
              "      <td>I am extremely picky about my crockpot recipes...</td>\n",
              "    </tr>\n",
              "    <tr>\n",
              "      <th>3</th>\n",
              "      <td>224088</td>\n",
              "      <td>254596</td>\n",
              "      <td>4</td>\n",
              "      <td>Pork + fruit + crockpot = awesome.\\n\\nA very g...</td>\n",
              "    </tr>\n",
              "    <tr>\n",
              "      <th>4</th>\n",
              "      <td>582223</td>\n",
              "      <td>254596</td>\n",
              "      <td>5</td>\n",
              "      <td>really good my 18 month old loved it and she's...</td>\n",
              "    </tr>\n",
              "    <tr>\n",
              "      <th>...</th>\n",
              "      <td>...</td>\n",
              "      <td>...</td>\n",
              "      <td>...</td>\n",
              "      <td>...</td>\n",
              "    </tr>\n",
              "    <tr>\n",
              "      <th>17755</th>\n",
              "      <td>209255</td>\n",
              "      <td>63362</td>\n",
              "      <td>5</td>\n",
              "      <td>I LOVED these!  And so did everyone else that ...</td>\n",
              "    </tr>\n",
              "    <tr>\n",
              "      <th>17756</th>\n",
              "      <td>163112</td>\n",
              "      <td>226618</td>\n",
              "      <td>3</td>\n",
              "      <td>I'm not sure what went wrong.  The cake was ve...</td>\n",
              "    </tr>\n",
              "    <tr>\n",
              "      <th>17757</th>\n",
              "      <td>714748</td>\n",
              "      <td>392347</td>\n",
              "      <td>5</td>\n",
              "      <td>Simple, straightforward, and delicious. I've m...</td>\n",
              "    </tr>\n",
              "    <tr>\n",
              "      <th>17758</th>\n",
              "      <td>181231</td>\n",
              "      <td>107852</td>\n",
              "      <td>5</td>\n",
              "      <td>I omited cloves and added 3Tbs.cinnamon red ho...</td>\n",
              "    </tr>\n",
              "    <tr>\n",
              "      <th>17759</th>\n",
              "      <td>582946</td>\n",
              "      <td>107852</td>\n",
              "      <td>4</td>\n",
              "      <td>Very tasty and simple to make. I had no cloves...</td>\n",
              "    </tr>\n",
              "  </tbody>\n",
              "</table>\n",
              "<p>17760 rows × 4 columns</p>\n",
              "</div>\n",
              "      <button class=\"colab-df-convert\" onclick=\"convertToInteractive('df-844efcff-2764-436f-a421-14ce1f0e4974')\"\n",
              "              title=\"Convert this dataframe to an interactive table.\"\n",
              "              style=\"display:none;\">\n",
              "        \n",
              "  <svg xmlns=\"http://www.w3.org/2000/svg\" height=\"24px\"viewBox=\"0 0 24 24\"\n",
              "       width=\"24px\">\n",
              "    <path d=\"M0 0h24v24H0V0z\" fill=\"none\"/>\n",
              "    <path d=\"M18.56 5.44l.94 2.06.94-2.06 2.06-.94-2.06-.94-.94-2.06-.94 2.06-2.06.94zm-11 1L8.5 8.5l.94-2.06 2.06-.94-2.06-.94L8.5 2.5l-.94 2.06-2.06.94zm10 10l.94 2.06.94-2.06 2.06-.94-2.06-.94-.94-2.06-.94 2.06-2.06.94z\"/><path d=\"M17.41 7.96l-1.37-1.37c-.4-.4-.92-.59-1.43-.59-.52 0-1.04.2-1.43.59L10.3 9.45l-7.72 7.72c-.78.78-.78 2.05 0 2.83L4 21.41c.39.39.9.59 1.41.59.51 0 1.02-.2 1.41-.59l7.78-7.78 2.81-2.81c.8-.78.8-2.07 0-2.86zM5.41 20L4 18.59l7.72-7.72 1.47 1.35L5.41 20z\"/>\n",
              "  </svg>\n",
              "      </button>\n",
              "      \n",
              "  <style>\n",
              "    .colab-df-container {\n",
              "      display:flex;\n",
              "      flex-wrap:wrap;\n",
              "      gap: 12px;\n",
              "    }\n",
              "\n",
              "    .colab-df-convert {\n",
              "      background-color: #E8F0FE;\n",
              "      border: none;\n",
              "      border-radius: 50%;\n",
              "      cursor: pointer;\n",
              "      display: none;\n",
              "      fill: #1967D2;\n",
              "      height: 32px;\n",
              "      padding: 0 0 0 0;\n",
              "      width: 32px;\n",
              "    }\n",
              "\n",
              "    .colab-df-convert:hover {\n",
              "      background-color: #E2EBFA;\n",
              "      box-shadow: 0px 1px 2px rgba(60, 64, 67, 0.3), 0px 1px 3px 1px rgba(60, 64, 67, 0.15);\n",
              "      fill: #174EA6;\n",
              "    }\n",
              "\n",
              "    [theme=dark] .colab-df-convert {\n",
              "      background-color: #3B4455;\n",
              "      fill: #D2E3FC;\n",
              "    }\n",
              "\n",
              "    [theme=dark] .colab-df-convert:hover {\n",
              "      background-color: #434B5C;\n",
              "      box-shadow: 0px 1px 3px 1px rgba(0, 0, 0, 0.15);\n",
              "      filter: drop-shadow(0px 1px 2px rgba(0, 0, 0, 0.3));\n",
              "      fill: #FFFFFF;\n",
              "    }\n",
              "  </style>\n",
              "\n",
              "      <script>\n",
              "        const buttonEl =\n",
              "          document.querySelector('#df-844efcff-2764-436f-a421-14ce1f0e4974 button.colab-df-convert');\n",
              "        buttonEl.style.display =\n",
              "          google.colab.kernel.accessAllowed ? 'block' : 'none';\n",
              "\n",
              "        async function convertToInteractive(key) {\n",
              "          const element = document.querySelector('#df-844efcff-2764-436f-a421-14ce1f0e4974');\n",
              "          const dataTable =\n",
              "            await google.colab.kernel.invokeFunction('convertToInteractive',\n",
              "                                                     [key], {});\n",
              "          if (!dataTable) return;\n",
              "\n",
              "          const docLinkHtml = 'Like what you see? Visit the ' +\n",
              "            '<a target=\"_blank\" href=https://colab.research.google.com/notebooks/data_table.ipynb>data table notebook</a>'\n",
              "            + ' to learn more about interactive tables.';\n",
              "          element.innerHTML = '';\n",
              "          dataTable['output_type'] = 'display_data';\n",
              "          await google.colab.output.renderOutput(dataTable, element);\n",
              "          const docLink = document.createElement('div');\n",
              "          docLink.innerHTML = docLinkHtml;\n",
              "          element.appendChild(docLink);\n",
              "        }\n",
              "      </script>\n",
              "    </div>\n",
              "  </div>\n",
              "  "
            ]
          },
          "metadata": {},
          "execution_count": 27
        }
      ]
    },
    {
      "cell_type": "code",
      "source": [
        "merged_df2.to_csv('updated_recipes.csv')"
      ],
      "metadata": {
        "id": "Yu0i-hRa9DFq"
      },
      "execution_count": null,
      "outputs": []
    },
    {
      "cell_type": "code",
      "source": [
        "import pandas as pd\n",
        "prices_df = pd.read_csv('Prices.csv')"
      ],
      "metadata": {
        "id": "-ETqnOXy7LnL"
      },
      "execution_count": null,
      "outputs": []
    },
    {
      "cell_type": "code",
      "source": [
        "new_prices_df = pd.DataFrame(prices_df.groupby(by=[\"Ingredient_id\", \"Ingredient_name\", \"year\", \"country\", \"unit\"]).mean().reset_index())"
      ],
      "metadata": {
        "id": "xE7gDlbs74oP"
      },
      "execution_count": null,
      "outputs": []
    },
    {
      "cell_type": "code",
      "source": [
        "new_prices_df.to_csv('updated_final_prices.csv')"
      ],
      "metadata": {
        "id": "fjIL66LB8X-J"
      },
      "execution_count": null,
      "outputs": []
    },
    {
      "cell_type": "code",
      "source": [
        "import pandas as pd\n",
        "recipes_df = pd.read_csv('recipes.csv', quoting=1)"
      ],
      "metadata": {
        "id": "nDK9_8T86WAI"
      },
      "execution_count": null,
      "outputs": []
    },
    {
      "cell_type": "code",
      "source": [
        "recipes_df['steps']"
      ],
      "metadata": {
        "colab": {
          "base_uri": "https://localhost:8080/"
        },
        "id": "yTM8dyKJ7u6k",
        "outputId": "741e7c45-e1e2-49db-e379-7ec5d8919965"
      },
      "execution_count": null,
      "outputs": [
        {
          "output_type": "execute_result",
          "data": {
            "text/plain": [
              "0         ['make a choice and proceed with recipe', 'dep...\n",
              "1         ['preheat oven to 425 degrees f', 'press dough...\n",
              "2         ['place potatoes in a large pot of lightly sal...\n",
              "3         ['combine ingredients in blender', 'cover and ...\n",
              "4         ['toast the fennel seeds and lightly crush the...\n",
              "                                ...                        \n",
              "178260    ['into each of six sterile pint mason jars , p...\n",
              "178261    ['place the lettuce on a platter or serving di...\n",
              "178262    ['to make the sauce , combine the mayonnaise ,...\n",
              "178263    ['bring 3 quarts salted to water to a boil', '...\n",
              "178264    ['in a bowl , combine the mashed yolks and may...\n",
              "Name: steps, Length: 178265, dtype: object"
            ]
          },
          "metadata": {},
          "execution_count": 3
        }
      ]
    },
    {
      "cell_type": "code",
      "source": [
        "import re\n",
        "\n",
        "def clean(raw_steps):\n",
        "    # Replace single quotes inside double quotes with empty string\n",
        "    pattern = r'\"(?:[^\"\\\\]|\\\\.)*\"'\n",
        "    result = re.findall(pattern, raw_steps)\n",
        "    for match in result:\n",
        "        new_match = re.sub(r\"'\", '', match)\n",
        "        raw_steps = raw_steps.replace(match, new_match)\n",
        "        \n",
        "    # Replace all double quotes inside single quotes with empty string\n",
        "    pattern = r\"'(?:[^'\\\\]|\\\\.)*\\\"(?:[^'\\\\]|\\\\.)*'\"\n",
        "    result = re.findall(pattern, raw_steps)\n",
        "    for match in result:\n",
        "        new_match = re.sub(r'\"', '', match)\n",
        "        raw_steps = raw_steps.replace(match, new_match)\n",
        "\n",
        "    # Replace all remaining double quotes with single quotes\n",
        "    raw_steps = raw_steps.replace('\"', \"'\")\n",
        "\n",
        "    return raw_steps\n",
        "\n"
      ],
      "metadata": {
        "id": "weHi5iaJ7y7F"
      },
      "execution_count": null,
      "outputs": []
    },
    {
      "cell_type": "code",
      "source": [
        "def add_apostrophe(input_string):\n",
        "    quoted_strings = []\n",
        "    substrings = input_string.split(\"'\")\n",
        "    for i in range(0, len(substrings)-1, 2):\n",
        "        quoted_strings.append(substrings[i] + \"'\" + substrings[i+1])\n",
        "        if i < len(substrings)-2:\n",
        "            quoted_strings.append(\",\")\n",
        "    return quoted_strings"
      ],
      "metadata": {
        "id": "go1q4OtGSRSj"
      },
      "execution_count": null,
      "outputs": []
    },
    {
      "cell_type": "code",
      "source": [
        "test = \"\"\"\n",
        "['cube bread', 'set aside in a large mixing bowl', 'combine all ingredients except butter', 'mix well and pour over bread', 'soak bread in milk mixture for 15 minutes', 'pour into a 13x9 buttered pan', 'top bread mixture , with cut up butter', 'bake at 325 for 60-90 minutes or until pudding mixture has risen 1 inch', 'serve warm sauce over bread pudding', 'sauce', 'combine ingredients and add sugar and water until dissolved', 'add butter , and simmer until melted', 'cook over high heat of 2 minutes', 'add jack daniels , and simmer for 3-5 minutes']\"\"\"\n",
        "test"
      ],
      "metadata": {
        "id": "I9z6ClWMIS0e",
        "colab": {
          "base_uri": "https://localhost:8080/",
          "height": 105
        },
        "outputId": "44c8bcee-367c-43f0-e7c3-6727ad73179a"
      },
      "execution_count": null,
      "outputs": [
        {
          "output_type": "execute_result",
          "data": {
            "text/plain": [
              "\"\\n['cube bread', 'set aside in a large mixing bowl', 'combine all ingredients except butter', 'mix well and pour over bread', 'soak bread in milk mixture for 15 minutes', 'pour into a 13x9 buttered pan', 'top bread mixture , with cut up butter', 'bake at 325 for 60-90 minutes or until pudding mixture has risen 1 inch', 'serve warm sauce over bread pudding', 'sauce', 'combine ingredients and add sugar and water until dissolved', 'add butter , and simmer until melted', 'cook over high heat of 2 minutes', 'add jack daniels , and simmer for 3-5 minutes']\""
            ],
            "application/vnd.google.colaboratory.intrinsic+json": {
              "type": "string"
            }
          },
          "metadata": {},
          "execution_count": 6
        }
      ]
    },
    {
      "cell_type": "code",
      "source": [
        "clean(test)"
      ],
      "metadata": {
        "colab": {
          "base_uri": "https://localhost:8080/",
          "height": 105
        },
        "id": "TFmmEfqiIXfL",
        "outputId": "f29619ba-d3a5-4c1c-f694-64abfc408618"
      },
      "execution_count": null,
      "outputs": [
        {
          "output_type": "execute_result",
          "data": {
            "text/plain": [
              "\"\\n['cube bread', 'set aside in a large mixing bowl', 'combine all ingredients except butter', 'mix well and pour over bread', 'soak bread in milk mixture for 15 minutes', 'pour into a 13x9 buttered pan', 'top bread mixture , with cut up butter', 'bake at 325 for 60-90 minutes or until pudding mixture has risen 1 inch', 'serve warm sauce over bread pudding', 'sauce', 'combine ingredients and add sugar and water until dissolved', 'add butter , and simmer until melted', 'cook over high heat of 2 minutes', 'add jack daniels , and simmer for 3-5 minutes']\""
            ],
            "application/vnd.google.colaboratory.intrinsic+json": {
              "type": "string"
            }
          },
          "metadata": {},
          "execution_count": 7
        }
      ]
    },
    {
      "cell_type": "code",
      "source": [
        "lst = add_apostrophe(clean(test))\n",
        "lst"
      ],
      "metadata": {
        "colab": {
          "base_uri": "https://localhost:8080/"
        },
        "id": "NH8-LafU0uqh",
        "outputId": "481e8ed1-d8ac-4017-fa49-76ef96d5d920"
      },
      "execution_count": null,
      "outputs": [
        {
          "output_type": "execute_result",
          "data": {
            "text/plain": [
              "[\"\\n['cube bread\",\n",
              " ',',\n",
              " \", 'set aside in a large mixing bowl\",\n",
              " ',',\n",
              " \", 'combine all ingredients except butter\",\n",
              " ',',\n",
              " \", 'mix well and pour over bread\",\n",
              " ',',\n",
              " \", 'soak bread in milk mixture for 15 minutes\",\n",
              " ',',\n",
              " \", 'pour into a 13x9 buttered pan\",\n",
              " ',',\n",
              " \", 'top bread mixture , with cut up butter\",\n",
              " ',',\n",
              " \", 'bake at 325 for 60-90 minutes or until pudding mixture has risen 1 inch\",\n",
              " ',',\n",
              " \", 'serve warm sauce over bread pudding\",\n",
              " ',',\n",
              " \", 'sauce\",\n",
              " ',',\n",
              " \", 'combine ingredients and add sugar and water until dissolved\",\n",
              " ',',\n",
              " \", 'add butter , and simmer until melted\",\n",
              " ',',\n",
              " \", 'cook over high heat of 2 minutes\",\n",
              " ',',\n",
              " \", 'add jack daniels , and simmer for 3-5 minutes\",\n",
              " ',']"
            ]
          },
          "metadata": {},
          "execution_count": 8
        }
      ]
    },
    {
      "cell_type": "code",
      "source": [
        "def conversion(input_str):\n",
        "  sentences = []\n",
        "  for item in add_apostrophe(clean(input_str)):\n",
        "      if \"'\" in item:\n",
        "          sentence = item.split(\"'\")[1].replace(\",\", \"\").replace(\"[\", \"\").replace(\"]\", \"\").strip()\n",
        "          sentence = \"'\" + sentence + \"'\"\n",
        "          sentences.append(sentence)\n",
        "  out = \", \".join(sentences)\n",
        "  out = '[' + out + ']'\n",
        "  return out"
      ],
      "metadata": {
        "id": "jUY3O3FgBT3x"
      },
      "execution_count": null,
      "outputs": []
    },
    {
      "cell_type": "code",
      "source": [
        "conversion(test)"
      ],
      "metadata": {
        "colab": {
          "base_uri": "https://localhost:8080/",
          "height": 105
        },
        "id": "YI8cRn-9FP4U",
        "outputId": "83ee23d0-8bb9-4577-cdb0-33d54182277a"
      },
      "execution_count": null,
      "outputs": [
        {
          "output_type": "execute_result",
          "data": {
            "text/plain": [
              "\"['cube bread', 'set aside in a large mixing bowl', 'combine all ingredients except butter', 'mix well and pour over bread', 'soak bread in milk mixture for 15 minutes', 'pour into a 13x9 buttered pan', 'top bread mixture  with cut up butter', 'bake at 325 for 60-90 minutes or until pudding mixture has risen 1 inch', 'serve warm sauce over bread pudding', 'sauce', 'combine ingredients and add sugar and water until dissolved', 'add butter  and simmer until melted', 'cook over high heat of 2 minutes', 'add jack daniels  and simmer for 3-5 minutes']\""
            ],
            "application/vnd.google.colaboratory.intrinsic+json": {
              "type": "string"
            }
          },
          "metadata": {},
          "execution_count": 10
        }
      ]
    },
    {
      "cell_type": "markdown",
      "source": [],
      "metadata": {
        "id": "Cc8EcC6eBTKu"
      }
    },
    {
      "cell_type": "code",
      "source": [
        "new_steps = recipes_df['steps'].apply(conversion)"
      ],
      "metadata": {
        "id": "TJKS585NFcIz"
      },
      "execution_count": null,
      "outputs": []
    },
    {
      "cell_type": "code",
      "source": [
        "recipes_df['steps'] = new_steps"
      ],
      "metadata": {
        "id": "k6kHJQkS9Rs4"
      },
      "execution_count": null,
      "outputs": []
    },
    {
      "cell_type": "code",
      "source": [
        "recipes_df.to_csv('cleaned_updated_recipes.csv')"
      ],
      "metadata": {
        "id": "MoPaTBoVFkkI"
      },
      "execution_count": null,
      "outputs": []
    }
  ]
}